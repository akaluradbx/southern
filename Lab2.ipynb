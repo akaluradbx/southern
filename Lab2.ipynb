{
 "cells": [
  {
   "cell_type": "code",
   "execution_count": 0,
   "metadata": {
    "application/vnd.databricks.v1+cell": {
     "cellMetadata": {
      "byteLimit": 2048000,
      "rowLimit": 10000
     },
     "inputWidgets": {},
     "nuid": "ac17992b-0c95-4fcd-9b92-165c13fe0c14",
     "showTitle": true,
     "tableResultSettingsMap": {},
     "title": "Step 1: Create the Medallion schema"
    }
   },
   "outputs": [],
   "source": [
    "CREATE SCHEMA training.bronze;\n",
    "CREATE SCHEMA training.silver;\n",
    "CREATE SCHEMA training.gold;"
   ]
  },
  {
   "cell_type": "code",
   "execution_count": 0,
   "metadata": {
    "application/vnd.databricks.v1+cell": {
     "cellMetadata": {
      "byteLimit": 2048000,
      "rowLimit": 10000
     },
     "inputWidgets": {},
     "nuid": "d63936ec-23e5-4485-9a6c-34a1282a39b1",
     "showTitle": true,
     "tableResultSettingsMap": {},
     "title": "Step 2: Create Bronze Layer (Raw Ingestion)"
    }
   },
   "outputs": [],
   "source": [
    "-- Create bronze tables from raw CSV files\n",
    "CREATE OR REPLACE TABLE training.bronze.customers\n",
    "AS SELECT * FROM csv.`/Volumes/training/default/landing/customer.csv` WITH (header=\"true\");\n",
    "\n",
    "CREATE OR REPLACE TABLE training.bronze.products\n",
    "AS SELECT * FROM csv.`/Volumes/training/default/landing/product.csv` WITH (header=\"true\");\n",
    "\n",
    "CREATE OR REPLACE TABLE training.bronze.orders\n",
    "AS SELECT * FROM csv.`/Volumes/training/default/landing/order.csv` WITH (header=\"true\");"
   ]
  },
  {
   "cell_type": "code",
   "execution_count": 0,
   "metadata": {
    "application/vnd.databricks.v1+cell": {
     "cellMetadata": {
      "byteLimit": 2048000,
      "rowLimit": 10000
     },
     "inputWidgets": {},
     "nuid": "07eaa0fc-a4f3-4cdb-9dc9-1462f2003f0a",
     "showTitle": true,
     "tableResultSettingsMap": {},
     "title": "Step 3: Create Silver Layer (Cleaned & Enriched Data)"
    }
   },
   "outputs": [],
   "source": [
    "-- Clean customers: Standardize names and emails\n",
    "CREATE OR REPLACE TABLE training.silver.customers\n",
    "AS SELECT\n",
    "  customer_id,\n",
    "  initcap(first_name) AS first_name,\n",
    "  initcap(last_name) AS last_name,\n",
    "  lower(email) AS email,\n",
    "  initcap(city) AS city\n",
    "FROM training.bronze.customers;\n",
    "\n",
    "-- Clean products: Handle missing values and data types\n",
    "CREATE OR REPLACE TABLE training.silver.products\n",
    "AS SELECT\n",
    "  product_id,\n",
    "  initcap(product_name) AS product_name,\n",
    "  initcap(category) AS category,\n",
    "  CAST(price AS DECIMAL(10,2)) AS price\n",
    "FROM training.bronze.products\n",
    "WHERE price IS NOT NULL;\n",
    "\n",
    "-- Enrich orders: Add calculated columns and validation\n",
    "CREATE OR REPLACE TABLE training.silver.orders\n",
    "AS SELECT\n",
    "  o.order_id,\n",
    "  o.customer_id,\n",
    "  o.product_id,\n",
    "  CAST(o.order_date AS DATE) AS order_date,\n",
    "  CAST(o.quantity AS INT) AS quantity,\n",
    "  CAST(p.price AS DECIMAL(10, 2)) AS price,\n",
    "  (CAST(o.quantity AS INT) * CAST(p.price AS DECIMAL(10, 2))) AS order_total,\n",
    "  CASE WHEN CAST(o.quantity AS INT) > 0 THEN 'Valid' ELSE 'Invalid' END AS status\n",
    "FROM training.bronze.orders o\n",
    "JOIN training.bronze.products p \n",
    "  ON o.product_id = p.product_id;\n"
   ]
  },
  {
   "cell_type": "code",
   "execution_count": 0,
   "metadata": {
    "application/vnd.databricks.v1+cell": {
     "cellMetadata": {
      "byteLimit": 2048000,
      "rowLimit": 10000
     },
     "inputWidgets": {},
     "nuid": "fa73c917-2bef-4f22-8a52-5918f122be11",
     "showTitle": true,
     "tableResultSettingsMap": {},
     "title": "Step 4: Create Gold Layer (Business Aggregates)"
    }
   },
   "outputs": [],
   "source": [
    "-- Customer Lifetime Value (CLV)\n",
    "CREATE OR REPLACE TABLE training.gold.customer_clv\n",
    "AS SELECT\n",
    "  c.customer_id,\n",
    "  c.first_name,\n",
    "  c.last_name,\n",
    "  c.city,\n",
    "  SUM(o.order_total) AS total_spend,\n",
    "  COUNT(o.order_id) AS order_count,\n",
    "  AVG(o.order_total) AS avg_order_value\n",
    "FROM training.silver.customers c\n",
    "JOIN training.silver.orders o \n",
    "  ON c.customer_id = o.customer_id\n",
    "WHERE o.status = 'Valid'\n",
    "GROUP BY c.customer_id, c.first_name, c.last_name, c.city;\n",
    "\n",
    "-- Product Performance\n",
    "CREATE OR REPLACE TABLE training.gold.product_performance\n",
    "AS SELECT\n",
    "  p.product_id,\n",
    "  p.product_name,\n",
    "  p.category,\n",
    "  SUM(o.quantity) AS total_units_sold,\n",
    "  SUM(o.order_total) AS total_revenue,\n",
    "  AVG(p.price) AS avg_price\n",
    "FROM training.silver.products p\n",
    "JOIN training.silver.orders o \n",
    "  ON p.product_id = o.product_id\n",
    "WHERE o.status = 'Valid'\n",
    "GROUP BY p.product_id, p.product_name, p.category;\n",
    "\n",
    "-- Daily Sales Summary\n",
    "CREATE OR REPLACE TABLE training.gold.daily_sales\n",
    "AS SELECT\n",
    "  order_date,\n",
    "  SUM(order_total) AS daily_revenue,\n",
    "  COUNT(order_id) AS daily_orders,\n",
    "  SUM(quantity) AS daily_units\n",
    "FROM training.silver.orders\n",
    "WHERE status = 'Valid'\n",
    "GROUP BY order_date;\n"
   ]
  },
  {
   "cell_type": "code",
   "execution_count": 0,
   "metadata": {
    "application/vnd.databricks.v1+cell": {
     "cellMetadata": {
      "byteLimit": 2048000,
      "rowLimit": 10000
     },
     "inputWidgets": {},
     "nuid": "ab9641a7-fe2c-483c-8200-3e7b1ed8d5c9",
     "showTitle": true,
     "tableResultSettingsMap": {},
     "title": "Step 5: Verify Pipeline"
    }
   },
   "outputs": [],
   "source": [
    "-- Check row counts\n",
    "SELECT \n",
    "  (SELECT COUNT(*) FROM training.bronze.customers) AS bronze_customers,\n",
    "  (SELECT COUNT(*) FROM training.silver.customers) AS silver_customers,\n",
    "  (SELECT COUNT(*) FROM training.gold.customer_clv) AS gold_customers;"
   ]
  },
  {
   "cell_type": "code",
   "execution_count": 0,
   "metadata": {
    "application/vnd.databricks.v1+cell": {
     "cellMetadata": {
      "byteLimit": 2048000,
      "rowLimit": 10000
     },
     "inputWidgets": {},
     "nuid": "973d51cc-2554-4b61-89f3-bd4d5d19c407",
     "showTitle": false,
     "tableResultSettingsMap": {},
     "title": ""
    }
   },
   "outputs": [],
   "source": [
    "-- Sample gold data\n",
    "SELECT * FROM training.gold.product_performance \n",
    "ORDER BY total_revenue DESC \n",
    "LIMIT 5;\n"
   ]
  }
 ],
 "metadata": {
  "application/vnd.databricks.v1+notebook": {
   "computePreferences": null,
   "dashboards": [],
   "environmentMetadata": {
    "base_environment": "",
    "environment_version": "2"
   },
   "inputWidgetPreferences": null,
   "language": "sql",
   "notebookMetadata": {
    "pythonIndentUnit": 4
   },
   "notebookName": "Lab2",
   "widgets": {}
  },
  "language_info": {
   "name": "sql"
  }
 },
 "nbformat": 4,
 "nbformat_minor": 0
}
